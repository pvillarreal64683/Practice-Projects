{
 "cells": [
  {
   "cell_type": "code",
   "execution_count": 2,
   "id": "af5e8a67",
   "metadata": {},
   "outputs": [],
   "source": [
    "import pandas as pd\n",
    "import numpy as np\n",
    "import geopandas as gpd\n",
    "\n",
    "import matplotlib.pyplot as plt\n",
    "import matplotlib.mlab as mlab\n",
    "import matplotlib\n",
    "plt.style.use('ggplot')\n",
    "from matplotlib.pyplot import figure\n",
    "\n",
    "%matplotlib inline\n",
    "matplotlib.rcParams['figure.figsize'] = (12,8)\n",
    "\n",
    "pd.options.mode.chained_assignment = None"
   ]
  },
  {
   "cell_type": "code",
   "execution_count": 9,
   "id": "0096c788",
   "metadata": {},
   "outputs": [
    {
     "name": "stderr",
     "output_type": "stream",
     "text": [
      "C:\\Users\\Peter Villarreal\\AppData\\Local\\Temp\\ipykernel_16448\\987963227.py:2: DtypeWarning: Columns (11) have mixed types. Specify dtype option on import or set low_memory=False.\n",
      "  df = pd.read_csv(r\"C:\\Users\\Peter Villarreal\\Desktop\\Data Analytics\\Datasets\\Grey Wolf\\Boutin Alberta Grey Wolf.csv\")\n"
     ]
    },
    {
     "data": {
      "text/html": [
       "<div>\n",
       "<style scoped>\n",
       "    .dataframe tbody tr th:only-of-type {\n",
       "        vertical-align: middle;\n",
       "    }\n",
       "\n",
       "    .dataframe tbody tr th {\n",
       "        vertical-align: top;\n",
       "    }\n",
       "\n",
       "    .dataframe thead th {\n",
       "        text-align: right;\n",
       "    }\n",
       "</style>\n",
       "<table border=\"1\" class=\"dataframe\">\n",
       "  <thead>\n",
       "    <tr style=\"text-align: right;\">\n",
       "      <th></th>\n",
       "      <th>event-id</th>\n",
       "      <th>visible</th>\n",
       "      <th>timestamp</th>\n",
       "      <th>location-long</th>\n",
       "      <th>location-lat</th>\n",
       "      <th>external-temperature</th>\n",
       "      <th>gps:dop</th>\n",
       "      <th>height-raw</th>\n",
       "      <th>sensor-type</th>\n",
       "      <th>individual-taxon-canonical-name</th>\n",
       "      <th>tag-local-identifier</th>\n",
       "      <th>individual-local-identifier</th>\n",
       "      <th>study-name</th>\n",
       "    </tr>\n",
       "  </thead>\n",
       "  <tbody>\n",
       "    <tr>\n",
       "      <th>0</th>\n",
       "      <td>9710294924</td>\n",
       "      <td>True</td>\n",
       "      <td>2013-12-19 00:00:44.000</td>\n",
       "      <td>-111.990073</td>\n",
       "      <td>57.212889</td>\n",
       "      <td>-22.0</td>\n",
       "      <td>2.6</td>\n",
       "      <td>350.59</td>\n",
       "      <td>gps</td>\n",
       "      <td>Canis lupus</td>\n",
       "      <td>13791</td>\n",
       "      <td>13791</td>\n",
       "      <td>Boutin Alberta Grey Wolf</td>\n",
       "    </tr>\n",
       "    <tr>\n",
       "      <th>1</th>\n",
       "      <td>9710294925</td>\n",
       "      <td>True</td>\n",
       "      <td>2013-12-19 12:00:45.000</td>\n",
       "      <td>-112.043078</td>\n",
       "      <td>57.211016</td>\n",
       "      <td>-8.0</td>\n",
       "      <td>1.6</td>\n",
       "      <td>335.05</td>\n",
       "      <td>gps</td>\n",
       "      <td>Canis lupus</td>\n",
       "      <td>13791</td>\n",
       "      <td>13791</td>\n",
       "      <td>Boutin Alberta Grey Wolf</td>\n",
       "    </tr>\n",
       "    <tr>\n",
       "      <th>2</th>\n",
       "      <td>9710294926</td>\n",
       "      <td>True</td>\n",
       "      <td>2013-12-20 00:00:44.000</td>\n",
       "      <td>-112.105655</td>\n",
       "      <td>57.260090</td>\n",
       "      <td>-5.0</td>\n",
       "      <td>1.8</td>\n",
       "      <td>409.08</td>\n",
       "      <td>gps</td>\n",
       "      <td>Canis lupus</td>\n",
       "      <td>13791</td>\n",
       "      <td>13791</td>\n",
       "      <td>Boutin Alberta Grey Wolf</td>\n",
       "    </tr>\n",
       "    <tr>\n",
       "      <th>3</th>\n",
       "      <td>9710294927</td>\n",
       "      <td>True</td>\n",
       "      <td>2013-12-20 12:00:44.000</td>\n",
       "      <td>-112.105336</td>\n",
       "      <td>57.261037</td>\n",
       "      <td>-12.0</td>\n",
       "      <td>1.6</td>\n",
       "      <td>414.98</td>\n",
       "      <td>gps</td>\n",
       "      <td>Canis lupus</td>\n",
       "      <td>13791</td>\n",
       "      <td>13791</td>\n",
       "      <td>Boutin Alberta Grey Wolf</td>\n",
       "    </tr>\n",
       "    <tr>\n",
       "      <th>4</th>\n",
       "      <td>9710294928</td>\n",
       "      <td>True</td>\n",
       "      <td>2013-12-21 00:00:44.000</td>\n",
       "      <td>-112.105630</td>\n",
       "      <td>57.260091</td>\n",
       "      <td>-9.0</td>\n",
       "      <td>1.8</td>\n",
       "      <td>416.13</td>\n",
       "      <td>gps</td>\n",
       "      <td>Canis lupus</td>\n",
       "      <td>13791</td>\n",
       "      <td>13791</td>\n",
       "      <td>Boutin Alberta Grey Wolf</td>\n",
       "    </tr>\n",
       "  </tbody>\n",
       "</table>\n",
       "</div>"
      ],
      "text/plain": [
       "     event-id  visible                timestamp  location-long  location-lat  \\\n",
       "0  9710294924     True  2013-12-19 00:00:44.000    -111.990073     57.212889   \n",
       "1  9710294925     True  2013-12-19 12:00:45.000    -112.043078     57.211016   \n",
       "2  9710294926     True  2013-12-20 00:00:44.000    -112.105655     57.260090   \n",
       "3  9710294927     True  2013-12-20 12:00:44.000    -112.105336     57.261037   \n",
       "4  9710294928     True  2013-12-21 00:00:44.000    -112.105630     57.260091   \n",
       "\n",
       "   external-temperature  gps:dop  height-raw sensor-type  \\\n",
       "0                 -22.0      2.6      350.59         gps   \n",
       "1                  -8.0      1.6      335.05         gps   \n",
       "2                  -5.0      1.8      409.08         gps   \n",
       "3                 -12.0      1.6      414.98         gps   \n",
       "4                  -9.0      1.8      416.13         gps   \n",
       "\n",
       "  individual-taxon-canonical-name  tag-local-identifier  \\\n",
       "0                     Canis lupus                 13791   \n",
       "1                     Canis lupus                 13791   \n",
       "2                     Canis lupus                 13791   \n",
       "3                     Canis lupus                 13791   \n",
       "4                     Canis lupus                 13791   \n",
       "\n",
       "  individual-local-identifier                study-name  \n",
       "0                       13791  Boutin Alberta Grey Wolf  \n",
       "1                       13791  Boutin Alberta Grey Wolf  \n",
       "2                       13791  Boutin Alberta Grey Wolf  \n",
       "3                       13791  Boutin Alberta Grey Wolf  \n",
       "4                       13791  Boutin Alberta Grey Wolf  "
      ]
     },
     "execution_count": 9,
     "metadata": {},
     "output_type": "execute_result"
    }
   ],
   "source": [
    "#Read in the data\n",
    "df = pd.read_csv(r\"C:\\Users\\Peter Villarreal\\Desktop\\Data Analytics\\Datasets\\Grey Wolf\\Boutin Alberta Grey Wolf.csv\")\n",
    "#Lets look at the data\n",
    "df.head()"
   ]
  },
  {
   "cell_type": "code",
   "execution_count": 10,
   "id": "c2c1da29",
   "metadata": {},
   "outputs": [
    {
     "data": {
      "text/html": [
       "<div>\n",
       "<style scoped>\n",
       "    .dataframe tbody tr th:only-of-type {\n",
       "        vertical-align: middle;\n",
       "    }\n",
       "\n",
       "    .dataframe tbody tr th {\n",
       "        vertical-align: top;\n",
       "    }\n",
       "\n",
       "    .dataframe thead th {\n",
       "        text-align: right;\n",
       "    }\n",
       "</style>\n",
       "<table border=\"1\" class=\"dataframe\">\n",
       "  <thead>\n",
       "    <tr style=\"text-align: right;\">\n",
       "      <th></th>\n",
       "      <th>location-long</th>\n",
       "      <th>location-lat</th>\n",
       "      <th>individual-local-identifier</th>\n",
       "    </tr>\n",
       "  </thead>\n",
       "  <tbody>\n",
       "    <tr>\n",
       "      <th>0</th>\n",
       "      <td>-111.990073</td>\n",
       "      <td>57.212889</td>\n",
       "      <td>13791</td>\n",
       "    </tr>\n",
       "    <tr>\n",
       "      <th>1</th>\n",
       "      <td>-112.043078</td>\n",
       "      <td>57.211016</td>\n",
       "      <td>13791</td>\n",
       "    </tr>\n",
       "    <tr>\n",
       "      <th>2</th>\n",
       "      <td>-112.105655</td>\n",
       "      <td>57.260090</td>\n",
       "      <td>13791</td>\n",
       "    </tr>\n",
       "    <tr>\n",
       "      <th>3</th>\n",
       "      <td>-112.105336</td>\n",
       "      <td>57.261037</td>\n",
       "      <td>13791</td>\n",
       "    </tr>\n",
       "    <tr>\n",
       "      <th>4</th>\n",
       "      <td>-112.105630</td>\n",
       "      <td>57.260091</td>\n",
       "      <td>13791</td>\n",
       "    </tr>\n",
       "  </tbody>\n",
       "</table>\n",
       "</div>"
      ],
      "text/plain": [
       "   location-long  location-lat individual-local-identifier\n",
       "0    -111.990073     57.212889                       13791\n",
       "1    -112.043078     57.211016                       13791\n",
       "2    -112.105655     57.260090                       13791\n",
       "3    -112.105336     57.261037                       13791\n",
       "4    -112.105630     57.260091                       13791"
      ]
     },
     "execution_count": 10,
     "metadata": {},
     "output_type": "execute_result"
    }
   ],
   "source": [
    "# Selecting locations and wolves\n",
    "wolves_and_locations = df[[\"location-long\", \"location-lat\", \"individual-local-identifier\"]]\n",
    "wolves_and_locations.head()"
   ]
  },
  {
   "cell_type": "code",
   "execution_count": 11,
   "id": "d7b4b5c3",
   "metadata": {},
   "outputs": [
    {
     "data": {
      "text/html": [
       "<div>\n",
       "<style scoped>\n",
       "    .dataframe tbody tr th:only-of-type {\n",
       "        vertical-align: middle;\n",
       "    }\n",
       "\n",
       "    .dataframe tbody tr th {\n",
       "        vertical-align: top;\n",
       "    }\n",
       "\n",
       "    .dataframe thead th {\n",
       "        text-align: right;\n",
       "    }\n",
       "</style>\n",
       "<table border=\"1\" class=\"dataframe\">\n",
       "  <thead>\n",
       "    <tr style=\"text-align: right;\">\n",
       "      <th></th>\n",
       "      <th>location-lat</th>\n",
       "      <th>location-long</th>\n",
       "    </tr>\n",
       "    <tr>\n",
       "      <th>individual-local-identifier</th>\n",
       "      <th></th>\n",
       "      <th></th>\n",
       "    </tr>\n",
       "  </thead>\n",
       "  <tbody>\n",
       "    <tr>\n",
       "      <th>32251</th>\n",
       "      <td>57.382014</td>\n",
       "      <td>-111.523998</td>\n",
       "    </tr>\n",
       "    <tr>\n",
       "      <th>32252</th>\n",
       "      <td>57.124155</td>\n",
       "      <td>-112.202173</td>\n",
       "    </tr>\n",
       "    <tr>\n",
       "      <th>32253</th>\n",
       "      <td>56.630819</td>\n",
       "      <td>-111.541040</td>\n",
       "    </tr>\n",
       "    <tr>\n",
       "      <th>32254</th>\n",
       "      <td>57.600856</td>\n",
       "      <td>-111.582330</td>\n",
       "    </tr>\n",
       "    <tr>\n",
       "      <th>32255</th>\n",
       "      <td>56.602792</td>\n",
       "      <td>-112.042742</td>\n",
       "    </tr>\n",
       "  </tbody>\n",
       "</table>\n",
       "</div>"
      ],
      "text/plain": [
       "                             location-lat  location-long\n",
       "individual-local-identifier                             \n",
       "32251                           57.382014    -111.523998\n",
       "32252                           57.124155    -112.202173\n",
       "32253                           56.630819    -111.541040\n",
       "32254                           57.600856    -111.582330\n",
       "32255                           56.602792    -112.042742"
      ]
     },
     "execution_count": 11,
     "metadata": {},
     "output_type": "execute_result"
    }
   ],
   "source": [
    "# Making a pivot table of individual wolves and their respective geographical locations\n",
    "individual_wolves_piv = wolves_and_locations.pivot_table(values=[\"location-long\", \"location-lat\"],\n",
    "                                                         index=\"individual-local-identifier\")\n",
    "individual_wolves_piv.head()\n",
    "\n",
    "# This table only represents one location at a specific time per wolf (need to aggregate all locations for each wolf, say for example look at all location points for wolf #13791)"
   ]
  },
  {
   "cell_type": "code",
   "execution_count": 12,
   "id": "39e35a6c",
   "metadata": {},
   "outputs": [
    {
     "data": {
      "text/html": [
       "<div>\n",
       "<style scoped>\n",
       "    .dataframe tbody tr th:only-of-type {\n",
       "        vertical-align: middle;\n",
       "    }\n",
       "\n",
       "    .dataframe tbody tr th {\n",
       "        vertical-align: top;\n",
       "    }\n",
       "\n",
       "    .dataframe thead th {\n",
       "        text-align: right;\n",
       "    }\n",
       "</style>\n",
       "<table border=\"1\" class=\"dataframe\">\n",
       "  <thead>\n",
       "    <tr style=\"text-align: right;\">\n",
       "      <th></th>\n",
       "      <th>event-id</th>\n",
       "      <th>visible</th>\n",
       "      <th>timestamp</th>\n",
       "      <th>location-long</th>\n",
       "      <th>location-lat</th>\n",
       "      <th>external-temperature</th>\n",
       "      <th>gps:dop</th>\n",
       "      <th>height-raw</th>\n",
       "      <th>sensor-type</th>\n",
       "      <th>individual-taxon-canonical-name</th>\n",
       "      <th>tag-local-identifier</th>\n",
       "      <th>individual-local-identifier</th>\n",
       "      <th>study-name</th>\n",
       "    </tr>\n",
       "  </thead>\n",
       "  <tbody>\n",
       "    <tr>\n",
       "      <th>0</th>\n",
       "      <td>9710294924</td>\n",
       "      <td>True</td>\n",
       "      <td>2013-12-19 00:00:44.000</td>\n",
       "      <td>-111.990073</td>\n",
       "      <td>57.212889</td>\n",
       "      <td>-22.0</td>\n",
       "      <td>2.6</td>\n",
       "      <td>350.59</td>\n",
       "      <td>gps</td>\n",
       "      <td>Canis lupus</td>\n",
       "      <td>13791</td>\n",
       "      <td>13791</td>\n",
       "      <td>Boutin Alberta Grey Wolf</td>\n",
       "    </tr>\n",
       "    <tr>\n",
       "      <th>1</th>\n",
       "      <td>9710294925</td>\n",
       "      <td>True</td>\n",
       "      <td>2013-12-19 12:00:45.000</td>\n",
       "      <td>-112.043078</td>\n",
       "      <td>57.211016</td>\n",
       "      <td>-8.0</td>\n",
       "      <td>1.6</td>\n",
       "      <td>335.05</td>\n",
       "      <td>gps</td>\n",
       "      <td>Canis lupus</td>\n",
       "      <td>13791</td>\n",
       "      <td>13791</td>\n",
       "      <td>Boutin Alberta Grey Wolf</td>\n",
       "    </tr>\n",
       "    <tr>\n",
       "      <th>2</th>\n",
       "      <td>9710294926</td>\n",
       "      <td>True</td>\n",
       "      <td>2013-12-20 00:00:44.000</td>\n",
       "      <td>-112.105655</td>\n",
       "      <td>57.260090</td>\n",
       "      <td>-5.0</td>\n",
       "      <td>1.8</td>\n",
       "      <td>409.08</td>\n",
       "      <td>gps</td>\n",
       "      <td>Canis lupus</td>\n",
       "      <td>13791</td>\n",
       "      <td>13791</td>\n",
       "      <td>Boutin Alberta Grey Wolf</td>\n",
       "    </tr>\n",
       "    <tr>\n",
       "      <th>3</th>\n",
       "      <td>9710294927</td>\n",
       "      <td>True</td>\n",
       "      <td>2013-12-20 12:00:44.000</td>\n",
       "      <td>-112.105336</td>\n",
       "      <td>57.261037</td>\n",
       "      <td>-12.0</td>\n",
       "      <td>1.6</td>\n",
       "      <td>414.98</td>\n",
       "      <td>gps</td>\n",
       "      <td>Canis lupus</td>\n",
       "      <td>13791</td>\n",
       "      <td>13791</td>\n",
       "      <td>Boutin Alberta Grey Wolf</td>\n",
       "    </tr>\n",
       "    <tr>\n",
       "      <th>4</th>\n",
       "      <td>9710294928</td>\n",
       "      <td>True</td>\n",
       "      <td>2013-12-21 00:00:44.000</td>\n",
       "      <td>-112.105630</td>\n",
       "      <td>57.260091</td>\n",
       "      <td>-9.0</td>\n",
       "      <td>1.8</td>\n",
       "      <td>416.13</td>\n",
       "      <td>gps</td>\n",
       "      <td>Canis lupus</td>\n",
       "      <td>13791</td>\n",
       "      <td>13791</td>\n",
       "      <td>Boutin Alberta Grey Wolf</td>\n",
       "    </tr>\n",
       "  </tbody>\n",
       "</table>\n",
       "</div>"
      ],
      "text/plain": [
       "     event-id  visible                timestamp  location-long  location-lat  \\\n",
       "0  9710294924     True  2013-12-19 00:00:44.000    -111.990073     57.212889   \n",
       "1  9710294925     True  2013-12-19 12:00:45.000    -112.043078     57.211016   \n",
       "2  9710294926     True  2013-12-20 00:00:44.000    -112.105655     57.260090   \n",
       "3  9710294927     True  2013-12-20 12:00:44.000    -112.105336     57.261037   \n",
       "4  9710294928     True  2013-12-21 00:00:44.000    -112.105630     57.260091   \n",
       "\n",
       "   external-temperature  gps:dop  height-raw sensor-type  \\\n",
       "0                 -22.0      2.6      350.59         gps   \n",
       "1                  -8.0      1.6      335.05         gps   \n",
       "2                  -5.0      1.8      409.08         gps   \n",
       "3                 -12.0      1.6      414.98         gps   \n",
       "4                  -9.0      1.8      416.13         gps   \n",
       "\n",
       "  individual-taxon-canonical-name  tag-local-identifier  \\\n",
       "0                     Canis lupus                 13791   \n",
       "1                     Canis lupus                 13791   \n",
       "2                     Canis lupus                 13791   \n",
       "3                     Canis lupus                 13791   \n",
       "4                     Canis lupus                 13791   \n",
       "\n",
       "  individual-local-identifier                study-name  \n",
       "0                       13791  Boutin Alberta Grey Wolf  \n",
       "1                       13791  Boutin Alberta Grey Wolf  \n",
       "2                       13791  Boutin Alberta Grey Wolf  \n",
       "3                       13791  Boutin Alberta Grey Wolf  \n",
       "4                       13791  Boutin Alberta Grey Wolf  "
      ]
     },
     "execution_count": 12,
     "metadata": {},
     "output_type": "execute_result"
    }
   ],
   "source": [
    "# Filtering for wolf #13791\n",
    "wolf_13791 = df[df[\"individual-local-identifier\"] == \"13791\"]\n",
    "wolf_13791.head()\n",
    "\n",
    "# Now that I have a wolf isolated I will create a pivot table with his/her locations"
   ]
  },
  {
   "cell_type": "code",
   "execution_count": 13,
   "id": "22af114c",
   "metadata": {},
   "outputs": [
    {
     "data": {
      "text/html": [
       "<div>\n",
       "<style scoped>\n",
       "    .dataframe tbody tr th:only-of-type {\n",
       "        vertical-align: middle;\n",
       "    }\n",
       "\n",
       "    .dataframe tbody tr th {\n",
       "        vertical-align: top;\n",
       "    }\n",
       "\n",
       "    .dataframe thead th {\n",
       "        text-align: right;\n",
       "    }\n",
       "</style>\n",
       "<table border=\"1\" class=\"dataframe\">\n",
       "  <thead>\n",
       "    <tr style=\"text-align: right;\">\n",
       "      <th></th>\n",
       "      <th>individual-local-identifier</th>\n",
       "      <th>location-long</th>\n",
       "      <th>location-lat</th>\n",
       "    </tr>\n",
       "  </thead>\n",
       "  <tbody>\n",
       "    <tr>\n",
       "      <th>0</th>\n",
       "      <td>13791</td>\n",
       "      <td>-111.990073</td>\n",
       "      <td>57.212889</td>\n",
       "    </tr>\n",
       "    <tr>\n",
       "      <th>1</th>\n",
       "      <td>13791</td>\n",
       "      <td>-112.043078</td>\n",
       "      <td>57.211016</td>\n",
       "    </tr>\n",
       "    <tr>\n",
       "      <th>2</th>\n",
       "      <td>13791</td>\n",
       "      <td>-112.105655</td>\n",
       "      <td>57.260090</td>\n",
       "    </tr>\n",
       "    <tr>\n",
       "      <th>3</th>\n",
       "      <td>13791</td>\n",
       "      <td>-112.105336</td>\n",
       "      <td>57.261037</td>\n",
       "    </tr>\n",
       "    <tr>\n",
       "      <th>4</th>\n",
       "      <td>13791</td>\n",
       "      <td>-112.105630</td>\n",
       "      <td>57.260091</td>\n",
       "    </tr>\n",
       "  </tbody>\n",
       "</table>\n",
       "</div>"
      ],
      "text/plain": [
       "  individual-local-identifier  location-long  location-lat\n",
       "0                       13791    -111.990073     57.212889\n",
       "1                       13791    -112.043078     57.211016\n",
       "2                       13791    -112.105655     57.260090\n",
       "3                       13791    -112.105336     57.261037\n",
       "4                       13791    -112.105630     57.260091"
      ]
     },
     "execution_count": 13,
     "metadata": {},
     "output_type": "execute_result"
    }
   ],
   "source": [
    "# Table with locations of wolf #13791\n",
    "wolf_13791_locations = wolf_13791[[\"individual-local-identifier\", \"location-long\", \"location-lat\"]]\n",
    "wolf_13791_locations.head()"
   ]
  },
  {
   "cell_type": "code",
   "execution_count": 3,
   "id": "134cd087",
   "metadata": {},
   "outputs": [
    {
     "data": {
      "text/html": [
       "<div>\n",
       "<style scoped>\n",
       "    .dataframe tbody tr th:only-of-type {\n",
       "        vertical-align: middle;\n",
       "    }\n",
       "\n",
       "    .dataframe tbody tr th {\n",
       "        vertical-align: top;\n",
       "    }\n",
       "\n",
       "    .dataframe thead th {\n",
       "        text-align: right;\n",
       "    }\n",
       "</style>\n",
       "<table border=\"1\" class=\"dataframe\">\n",
       "  <thead>\n",
       "    <tr style=\"text-align: right;\">\n",
       "      <th></th>\n",
       "      <th>pop_est</th>\n",
       "      <th>continent</th>\n",
       "      <th>name</th>\n",
       "      <th>iso_a3</th>\n",
       "      <th>gdp_md_est</th>\n",
       "      <th>geometry</th>\n",
       "    </tr>\n",
       "  </thead>\n",
       "  <tbody>\n",
       "    <tr>\n",
       "      <th>0</th>\n",
       "      <td>889953.0</td>\n",
       "      <td>Oceania</td>\n",
       "      <td>Fiji</td>\n",
       "      <td>FJI</td>\n",
       "      <td>5496</td>\n",
       "      <td>MULTIPOLYGON (((180.00000 -16.06713, 180.00000...</td>\n",
       "    </tr>\n",
       "    <tr>\n",
       "      <th>1</th>\n",
       "      <td>58005463.0</td>\n",
       "      <td>Africa</td>\n",
       "      <td>Tanzania</td>\n",
       "      <td>TZA</td>\n",
       "      <td>63177</td>\n",
       "      <td>POLYGON ((33.90371 -0.95000, 34.07262 -1.05982...</td>\n",
       "    </tr>\n",
       "    <tr>\n",
       "      <th>2</th>\n",
       "      <td>603253.0</td>\n",
       "      <td>Africa</td>\n",
       "      <td>W. Sahara</td>\n",
       "      <td>ESH</td>\n",
       "      <td>907</td>\n",
       "      <td>POLYGON ((-8.66559 27.65643, -8.66512 27.58948...</td>\n",
       "    </tr>\n",
       "    <tr>\n",
       "      <th>3</th>\n",
       "      <td>37589262.0</td>\n",
       "      <td>North America</td>\n",
       "      <td>Canada</td>\n",
       "      <td>CAN</td>\n",
       "      <td>1736425</td>\n",
       "      <td>MULTIPOLYGON (((-122.84000 49.00000, -122.9742...</td>\n",
       "    </tr>\n",
       "    <tr>\n",
       "      <th>4</th>\n",
       "      <td>328239523.0</td>\n",
       "      <td>North America</td>\n",
       "      <td>United States of America</td>\n",
       "      <td>USA</td>\n",
       "      <td>21433226</td>\n",
       "      <td>MULTIPOLYGON (((-122.84000 49.00000, -120.0000...</td>\n",
       "    </tr>\n",
       "  </tbody>\n",
       "</table>\n",
       "</div>"
      ],
      "text/plain": [
       "       pop_est      continent                      name iso_a3  gdp_md_est  \\\n",
       "0     889953.0        Oceania                      Fiji    FJI        5496   \n",
       "1   58005463.0         Africa                  Tanzania    TZA       63177   \n",
       "2     603253.0         Africa                 W. Sahara    ESH         907   \n",
       "3   37589262.0  North America                    Canada    CAN     1736425   \n",
       "4  328239523.0  North America  United States of America    USA    21433226   \n",
       "\n",
       "                                            geometry  \n",
       "0  MULTIPOLYGON (((180.00000 -16.06713, 180.00000...  \n",
       "1  POLYGON ((33.90371 -0.95000, 34.07262 -1.05982...  \n",
       "2  POLYGON ((-8.66559 27.65643, -8.66512 27.58948...  \n",
       "3  MULTIPOLYGON (((-122.84000 49.00000, -122.9742...  \n",
       "4  MULTIPOLYGON (((-122.84000 49.00000, -120.0000...  "
      ]
     },
     "execution_count": 3,
     "metadata": {},
     "output_type": "execute_result"
    }
   ],
   "source": [
    "# Using GeoPandas to import a world map dataset\n",
    "countries = gpd.read_file(\n",
    "               gpd.datasets.get_path(\"naturalearth_lowres\"))\n",
    "countries.head()"
   ]
  },
  {
   "cell_type": "code",
   "execution_count": 4,
   "id": "b6b64b9c",
   "metadata": {},
   "outputs": [
    {
     "data": {
      "text/plain": [
       "<AxesSubplot:>"
      ]
     },
     "execution_count": 4,
     "metadata": {},
     "output_type": "execute_result"
    },
    {
     "data": {
      "image/png": "[encoded data removed]",
      "text/plain": [
       "<Figure size 864x576 with 1 Axes>"
      ]
     },
     "metadata": {
      "needs_background": "light"
     },
     "output_type": "display_data"
    }
   ],
   "source": [
    "# Now I use GeoPandas to plot the polygons \n",
    "countries.plot(color=\"lightgrey\")"
   ]
  },
  {
   "cell_type": "code",
   "execution_count": 5,
   "id": "5b85d477",
   "metadata": {},
   "outputs": [
    {
     "data": {
      "text/plain": [
       "<AxesSubplot:>"
      ]
     },
     "execution_count": 5,
     "metadata": {},
     "output_type": "execute_result"
    },
    {
     "data": {
      "image/png": "[encoded data removed]",
      "text/plain": [
       "<Figure size 864x576 with 1 Axes>"
      ]
     },
     "metadata": {
      "needs_background": "light"
     },
     "output_type": "display_data"
    }
   ],
   "source": [
    "# Since the wolf data came from Alberta, I will filter the world map to display only Canada\n",
    "countries[countries[\"name\"] == \"Canada\"].plot(color=\"lightgrey\")"
   ]
  },
  {
   "cell_type": "code",
   "execution_count": 14,
   "id": "13b20abf",
   "metadata": {},
   "outputs": [
    {
     "data": {
      "text/plain": [
       "<AxesSubplot:title={'center':'Wolf 13791 Locations'}, xlabel='location-long', ylabel='location-lat'>"
      ]
     },
     "execution_count": 14,
     "metadata": {},
     "output_type": "execute_result"
    },
    {
     "data": {
      "image/png": "[encoded data removed]",
      "text/plain": [
       "<Figure size 864x576 with 1 Axes>"
      ]
     },
     "metadata": {
      "needs_background": "light"
     },
     "output_type": "display_data"
    }
   ],
   "source": [
    "# plot points\n",
    "wolf_13791_locations.plot(x=\"location-long\", y=\"location-lat\", kind=\"scatter\", \n",
    "        title=f\"Wolf 13791 Locations\")"
   ]
  },
  {
   "cell_type": "code",
   "execution_count": 17,
   "id": "7446756a",
   "metadata": {},
   "outputs": [
    {
     "name": "stderr",
     "output_type": "stream",
     "text": [
      "C:\\Users\\Peter Villarreal\\AppData\\Local\\Temp\\ipykernel_16448\\1882368926.py:13: MatplotlibDeprecationWarning: The 'b' parameter of grid() has been renamed 'visible' since Matplotlib 3.5; support for the old name will be dropped two minor releases later.\n",
      "  ax.grid(b=True, alpha=0.5)\n"
     ]
    },
    {
     "data": {
      "image/png": "[encoded data removed]",
      "text/plain": [
       "<Figure size 576x432 with 1 Axes>"
      ]
     },
     "metadata": {
      "needs_background": "light"
     },
     "output_type": "display_data"
    }
   ],
   "source": [
    "# Putting the entire graph together\n",
    "\n",
    "# initialize an axis\n",
    "fig, ax = plt.subplots(figsize=(8,6))\n",
    "# plot map on axis\n",
    "countries = gpd.read_file(\n",
    "               gpd.datasets.get_path(\"naturalearth_lowres\"))\n",
    "countries[countries[\"name\"] == \"Canada\"].plot(color=\"lightgrey\", ax=ax) \n",
    "# plot points\n",
    "wolf_13791_locations.plot(x=\"location-long\", y=\"location-lat\", kind=\"scatter\", \n",
    "        title=f\"Wolf 13791 Locations\", ax=ax)\n",
    "# add grid\n",
    "ax.grid(b=True, alpha=0.5)\n",
    "plt.show()"
   ]
  },
  {
   "cell_type": "code",
   "execution_count": null,
   "id": "262a5921",
   "metadata": {},
   "outputs": [],
   "source": []
  }
 ],
 "metadata": {
  "kernelspec": {
   "display_name": "Python 3 (ipykernel)",
   "language": "python",
   "name": "python3"
  },
  "language_info": {
   "codemirror_mode": {
    "name": "ipython",
    "version": 3
   },
   "file_extension": ".py",
   "mimetype": "text/x-python",
   "name": "python",
   "nbconvert_exporter": "python",
   "pygments_lexer": "ipython3",
   "version": "3.10.5"
  }
 },
 "nbformat": 4,
 "nbformat_minor": 5
}
